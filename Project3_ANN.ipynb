{
  "nbformat": 4,
  "nbformat_minor": 0,
  "metadata": {
    "colab": {
      "name": "ANN_challenge3.ipynb",
      "provenance": []
    },
    "kernelspec": {
      "name": "python3",
      "display_name": "Python 3"
    }
  },
  "cells": [
    {
      "cell_type": "code",
      "metadata": {
        "id": "L8Ldr7XWlD8E"
      },
      "source": [
        "import pandas as pd\n",
        "import numpy as np \n",
        "import matplotlib.pyplot as plt\n",
        "import sklearn\n",
        "from sklearn.neural_network import MLPClassifier\n",
        "\n",
        "# Import necessary modules\n",
        "from sklearn.model_selection import train_test_split\n",
        "from sklearn.model_selection import KFold\n",
        "from sklearn.metrics import accuracy_score\n",
        "from sklearn import tree\n",
        "import seaborn as sns"
      ],
      "execution_count": null,
      "outputs": []
    },
    {
      "cell_type": "code",
      "metadata": {
        "id": "q77kG1JslQ5C"
      },
      "source": [
        "df = pd.read_csv('seeds_dataset.csv')"
      ],
      "execution_count": null,
      "outputs": []
    },
    {
      "cell_type": "code",
      "metadata": {
        "id": "FyCDKskpmVoR",
        "outputId": "88c256bc-129e-4f72-b8d3-167376822a22",
        "colab": {
          "base_uri": "https://localhost:8080/",
          "height": 222
        }
      },
      "source": [
        "df.head()"
      ],
      "execution_count": null,
      "outputs": [
        {
          "output_type": "execute_result",
          "data": {
            "text/html": [
              "<div>\n",
              "<style scoped>\n",
              "    .dataframe tbody tr th:only-of-type {\n",
              "        vertical-align: middle;\n",
              "    }\n",
              "\n",
              "    .dataframe tbody tr th {\n",
              "        vertical-align: top;\n",
              "    }\n",
              "\n",
              "    .dataframe thead th {\n",
              "        text-align: right;\n",
              "    }\n",
              "</style>\n",
              "<table border=\"1\" class=\"dataframe\">\n",
              "  <thead>\n",
              "    <tr style=\"text-align: right;\">\n",
              "      <th></th>\n",
              "      <th>area</th>\n",
              "      <th>perimeter</th>\n",
              "      <th>compactness</th>\n",
              "      <th>lengthOfKernel</th>\n",
              "      <th>widthOfKernel</th>\n",
              "      <th>asymmetryCoefficient</th>\n",
              "      <th>lengthOfKernelGroove</th>\n",
              "      <th>seedType</th>\n",
              "    </tr>\n",
              "  </thead>\n",
              "  <tbody>\n",
              "    <tr>\n",
              "      <th>0</th>\n",
              "      <td>15.26</td>\n",
              "      <td>14.84</td>\n",
              "      <td>0.8710</td>\n",
              "      <td>5.763</td>\n",
              "      <td>3.312</td>\n",
              "      <td>2.221</td>\n",
              "      <td>5.220</td>\n",
              "      <td>1</td>\n",
              "    </tr>\n",
              "    <tr>\n",
              "      <th>1</th>\n",
              "      <td>14.88</td>\n",
              "      <td>14.57</td>\n",
              "      <td>0.8811</td>\n",
              "      <td>5.554</td>\n",
              "      <td>3.333</td>\n",
              "      <td>1.018</td>\n",
              "      <td>4.956</td>\n",
              "      <td>1</td>\n",
              "    </tr>\n",
              "    <tr>\n",
              "      <th>2</th>\n",
              "      <td>14.29</td>\n",
              "      <td>14.09</td>\n",
              "      <td>0.9050</td>\n",
              "      <td>5.291</td>\n",
              "      <td>3.337</td>\n",
              "      <td>2.699</td>\n",
              "      <td>4.825</td>\n",
              "      <td>1</td>\n",
              "    </tr>\n",
              "    <tr>\n",
              "      <th>3</th>\n",
              "      <td>13.84</td>\n",
              "      <td>13.94</td>\n",
              "      <td>0.8955</td>\n",
              "      <td>5.324</td>\n",
              "      <td>3.379</td>\n",
              "      <td>2.259</td>\n",
              "      <td>4.805</td>\n",
              "      <td>1</td>\n",
              "    </tr>\n",
              "    <tr>\n",
              "      <th>4</th>\n",
              "      <td>16.14</td>\n",
              "      <td>14.99</td>\n",
              "      <td>0.9034</td>\n",
              "      <td>5.658</td>\n",
              "      <td>3.562</td>\n",
              "      <td>1.355</td>\n",
              "      <td>5.175</td>\n",
              "      <td>1</td>\n",
              "    </tr>\n",
              "  </tbody>\n",
              "</table>\n",
              "</div>"
            ],
            "text/plain": [
              "    area  perimeter  ...  lengthOfKernelGroove  seedType\n",
              "0  15.26      14.84  ...                 5.220         1\n",
              "1  14.88      14.57  ...                 4.956         1\n",
              "2  14.29      14.09  ...                 4.825         1\n",
              "3  13.84      13.94  ...                 4.805         1\n",
              "4  16.14      14.99  ...                 5.175         1\n",
              "\n",
              "[5 rows x 8 columns]"
            ]
          },
          "metadata": {
            "tags": []
          },
          "execution_count": 3
        }
      ]
    },
    {
      "cell_type": "code",
      "metadata": {
        "id": "E19Sq5QambXh",
        "outputId": "d0898182-0b05-4fe4-af6c-b0995a2b7654",
        "colab": {
          "base_uri": "https://localhost:8080/",
          "height": 294
        }
      },
      "source": [
        "df.describe().transpose()"
      ],
      "execution_count": null,
      "outputs": [
        {
          "output_type": "execute_result",
          "data": {
            "text/html": [
              "<div>\n",
              "<style scoped>\n",
              "    .dataframe tbody tr th:only-of-type {\n",
              "        vertical-align: middle;\n",
              "    }\n",
              "\n",
              "    .dataframe tbody tr th {\n",
              "        vertical-align: top;\n",
              "    }\n",
              "\n",
              "    .dataframe thead th {\n",
              "        text-align: right;\n",
              "    }\n",
              "</style>\n",
              "<table border=\"1\" class=\"dataframe\">\n",
              "  <thead>\n",
              "    <tr style=\"text-align: right;\">\n",
              "      <th></th>\n",
              "      <th>count</th>\n",
              "      <th>mean</th>\n",
              "      <th>std</th>\n",
              "      <th>min</th>\n",
              "      <th>25%</th>\n",
              "      <th>50%</th>\n",
              "      <th>75%</th>\n",
              "      <th>max</th>\n",
              "    </tr>\n",
              "  </thead>\n",
              "  <tbody>\n",
              "    <tr>\n",
              "      <th>area</th>\n",
              "      <td>210.0</td>\n",
              "      <td>14.847524</td>\n",
              "      <td>2.909699</td>\n",
              "      <td>10.5900</td>\n",
              "      <td>12.27000</td>\n",
              "      <td>14.35500</td>\n",
              "      <td>17.305000</td>\n",
              "      <td>21.1800</td>\n",
              "    </tr>\n",
              "    <tr>\n",
              "      <th>perimeter</th>\n",
              "      <td>210.0</td>\n",
              "      <td>14.559286</td>\n",
              "      <td>1.305959</td>\n",
              "      <td>12.4100</td>\n",
              "      <td>13.45000</td>\n",
              "      <td>14.32000</td>\n",
              "      <td>15.715000</td>\n",
              "      <td>17.2500</td>\n",
              "    </tr>\n",
              "    <tr>\n",
              "      <th>compactness</th>\n",
              "      <td>210.0</td>\n",
              "      <td>0.870999</td>\n",
              "      <td>0.023629</td>\n",
              "      <td>0.8081</td>\n",
              "      <td>0.85690</td>\n",
              "      <td>0.87345</td>\n",
              "      <td>0.887775</td>\n",
              "      <td>0.9183</td>\n",
              "    </tr>\n",
              "    <tr>\n",
              "      <th>lengthOfKernel</th>\n",
              "      <td>210.0</td>\n",
              "      <td>5.628533</td>\n",
              "      <td>0.443063</td>\n",
              "      <td>4.8990</td>\n",
              "      <td>5.26225</td>\n",
              "      <td>5.52350</td>\n",
              "      <td>5.979750</td>\n",
              "      <td>6.6750</td>\n",
              "    </tr>\n",
              "    <tr>\n",
              "      <th>widthOfKernel</th>\n",
              "      <td>210.0</td>\n",
              "      <td>3.258605</td>\n",
              "      <td>0.377714</td>\n",
              "      <td>2.6300</td>\n",
              "      <td>2.94400</td>\n",
              "      <td>3.23700</td>\n",
              "      <td>3.561750</td>\n",
              "      <td>4.0330</td>\n",
              "    </tr>\n",
              "    <tr>\n",
              "      <th>asymmetryCoefficient</th>\n",
              "      <td>210.0</td>\n",
              "      <td>3.700201</td>\n",
              "      <td>1.503557</td>\n",
              "      <td>0.7651</td>\n",
              "      <td>2.56150</td>\n",
              "      <td>3.59900</td>\n",
              "      <td>4.768750</td>\n",
              "      <td>8.4560</td>\n",
              "    </tr>\n",
              "    <tr>\n",
              "      <th>lengthOfKernelGroove</th>\n",
              "      <td>210.0</td>\n",
              "      <td>5.408071</td>\n",
              "      <td>0.491480</td>\n",
              "      <td>4.5190</td>\n",
              "      <td>5.04500</td>\n",
              "      <td>5.22300</td>\n",
              "      <td>5.877000</td>\n",
              "      <td>6.5500</td>\n",
              "    </tr>\n",
              "    <tr>\n",
              "      <th>seedType</th>\n",
              "      <td>210.0</td>\n",
              "      <td>2.000000</td>\n",
              "      <td>0.818448</td>\n",
              "      <td>1.0000</td>\n",
              "      <td>1.00000</td>\n",
              "      <td>2.00000</td>\n",
              "      <td>3.000000</td>\n",
              "      <td>3.0000</td>\n",
              "    </tr>\n",
              "  </tbody>\n",
              "</table>\n",
              "</div>"
            ],
            "text/plain": [
              "                      count       mean       std  ...       50%        75%      max\n",
              "area                  210.0  14.847524  2.909699  ...  14.35500  17.305000  21.1800\n",
              "perimeter             210.0  14.559286  1.305959  ...  14.32000  15.715000  17.2500\n",
              "compactness           210.0   0.870999  0.023629  ...   0.87345   0.887775   0.9183\n",
              "lengthOfKernel        210.0   5.628533  0.443063  ...   5.52350   5.979750   6.6750\n",
              "widthOfKernel         210.0   3.258605  0.377714  ...   3.23700   3.561750   4.0330\n",
              "asymmetryCoefficient  210.0   3.700201  1.503557  ...   3.59900   4.768750   8.4560\n",
              "lengthOfKernelGroove  210.0   5.408071  0.491480  ...   5.22300   5.877000   6.5500\n",
              "seedType              210.0   2.000000  0.818448  ...   2.00000   3.000000   3.0000\n",
              "\n",
              "[8 rows x 8 columns]"
            ]
          },
          "metadata": {
            "tags": []
          },
          "execution_count": 4
        }
      ]
    },
    {
      "cell_type": "code",
      "metadata": {
        "id": "XWR9eEgFmngq",
        "outputId": "cfc8122b-f78a-4aab-8082-75230fbde7d4",
        "colab": {
          "base_uri": "https://localhost:8080/",
          "height": 35
        }
      },
      "source": [
        "df.shape"
      ],
      "execution_count": null,
      "outputs": [
        {
          "output_type": "execute_result",
          "data": {
            "text/plain": [
              "(210, 8)"
            ]
          },
          "metadata": {
            "tags": []
          },
          "execution_count": 5
        }
      ]
    },
    {
      "cell_type": "code",
      "metadata": {
        "id": "0YzBkdz7m6OH"
      },
      "source": [
        "X = df[['area','perimeter','compactness','lengthOfKernel','widthOfKernel','asymmetryCoefficient','lengthOfKernelGroove']]\n",
        "y = df['seedType']"
      ],
      "execution_count": null,
      "outputs": []
    },
    {
      "cell_type": "code",
      "metadata": {
        "id": "bU0tTRzg5U9r"
      },
      "source": [
        ""
      ],
      "execution_count": null,
      "outputs": []
    },
    {
      "cell_type": "code",
      "metadata": {
        "id": "295uec44nbBZ"
      },
      "source": [
        "from sklearn.model_selection import train_test_split\n",
        "X_train, X_test, y_train, y_test = train_test_split(X, y, test_size=0.20, random_state=4)\n"
      ],
      "execution_count": null,
      "outputs": []
    },
    {
      "cell_type": "code",
      "metadata": {
        "id": "5sLOvMPc4rIS",
        "outputId": "37145d6c-c0d4-49f4-8786-dbf7c827db88",
        "colab": {
          "base_uri": "https://localhost:8080/",
          "height": 763
        }
      },
      "source": [
        "y_test"
      ],
      "execution_count": null,
      "outputs": [
        {
          "output_type": "execute_result",
          "data": {
            "text/plain": [
              "34     1\n",
              "195    3\n",
              "118    2\n",
              "18     1\n",
              "91     2\n",
              "1      1\n",
              "123    2\n",
              "173    3\n",
              "143    3\n",
              "82     2\n",
              "169    3\n",
              "11     1\n",
              "177    3\n",
              "112    2\n",
              "68     1\n",
              "88     2\n",
              "175    3\n",
              "199    3\n",
              "193    3\n",
              "209    3\n",
              "14     1\n",
              "139    2\n",
              "196    3\n",
              "76     2\n",
              "90     2\n",
              "182    3\n",
              "45     1\n",
              "127    2\n",
              "189    3\n",
              "62     1\n",
              "198    3\n",
              "93     2\n",
              "33     1\n",
              "48     1\n",
              "101    2\n",
              "116    2\n",
              "6      1\n",
              "47     1\n",
              "185    3\n",
              "77     2\n",
              "133    2\n",
              "171    3\n",
              "Name: seedType, dtype: int64"
            ]
          },
          "metadata": {
            "tags": []
          },
          "execution_count": 8
        }
      ]
    },
    {
      "cell_type": "code",
      "metadata": {
        "id": "JwI7k-tVeAEP",
        "outputId": "f0a75f9a-5678-418f-bac3-52d0c48e8170",
        "colab": {
          "base_uri": "https://localhost:8080/",
          "height": 52
        }
      },
      "source": [
        "print(X_train.shape, X_test.shape)\n",
        "print(y_train.shape, y_test.shape)"
      ],
      "execution_count": null,
      "outputs": [
        {
          "output_type": "stream",
          "text": [
            "(168, 7) (42, 7)\n",
            "(168,) (42,)\n"
          ],
          "name": "stdout"
        }
      ]
    },
    {
      "cell_type": "code",
      "metadata": {
        "id": "MjqWUrUwePT-"
      },
      "source": [
        ""
      ],
      "execution_count": null,
      "outputs": []
    },
    {
      "cell_type": "code",
      "metadata": {
        "id": "RawP9JGBn3zy",
        "outputId": "2abe2f5f-3544-4500-c9b6-d6d47a57f97d",
        "colab": {
          "base_uri": "https://localhost:8080/",
          "height": 35
        }
      },
      "source": [
        "from sklearn.preprocessing import StandardScaler\n",
        "scaler = StandardScaler()\n",
        "scaler.fit(X_train)\n"
      ],
      "execution_count": null,
      "outputs": [
        {
          "output_type": "execute_result",
          "data": {
            "text/plain": [
              "StandardScaler(copy=True, with_mean=True, with_std=True)"
            ]
          },
          "metadata": {
            "tags": []
          },
          "execution_count": 10
        }
      ]
    },
    {
      "cell_type": "code",
      "metadata": {
        "id": "6zwzL3kcoiOL"
      },
      "source": [
        "X_train = scaler.transform(X_train)\n",
        "X_test = scaler.transform(X_test)"
      ],
      "execution_count": null,
      "outputs": []
    },
    {
      "cell_type": "code",
      "metadata": {
        "id": "wEk6MMXrosU2",
        "outputId": "20671a45-d145-4299-9dd7-24eeedaa7b31",
        "colab": {
          "base_uri": "https://localhost:8080/",
          "height": 211
        }
      },
      "source": [
        "from sklearn.neural_network import MLPClassifier\n",
        "\n",
        "mlp = MLPClassifier(hidden_layer_sizes=(10,5), max_iter=700)\n",
        "mlp.fit(X_train,y_train)"
      ],
      "execution_count": null,
      "outputs": [
        {
          "output_type": "stream",
          "text": [
            "/usr/local/lib/python3.6/dist-packages/sklearn/neural_network/_multilayer_perceptron.py:571: ConvergenceWarning: Stochastic Optimizer: Maximum iterations (700) reached and the optimization hasn't converged yet.\n",
            "  % self.max_iter, ConvergenceWarning)\n"
          ],
          "name": "stderr"
        },
        {
          "output_type": "execute_result",
          "data": {
            "text/plain": [
              "MLPClassifier(activation='relu', alpha=0.0001, batch_size='auto', beta_1=0.9,\n",
              "              beta_2=0.999, early_stopping=False, epsilon=1e-08,\n",
              "              hidden_layer_sizes=(10, 5), learning_rate='constant',\n",
              "              learning_rate_init=0.001, max_fun=15000, max_iter=700,\n",
              "              momentum=0.9, n_iter_no_change=10, nesterovs_momentum=True,\n",
              "              power_t=0.5, random_state=None, shuffle=True, solver='adam',\n",
              "              tol=0.0001, validation_fraction=0.1, verbose=False,\n",
              "              warm_start=False)"
            ]
          },
          "metadata": {
            "tags": []
          },
          "execution_count": 12
        }
      ]
    },
    {
      "cell_type": "code",
      "metadata": {
        "id": "n0VEPdfxr82i",
        "outputId": "306a62cf-d6af-42b5-cce3-63e7e28eacf8",
        "colab": {
          "base_uri": "https://localhost:8080/",
          "height": 191
        }
      },
      "source": [
        "predictions = mlp.predict(X_train)\n",
        "from sklearn.metrics import classification_report, confusion_matrix\n",
        "import itertools\n",
        "cnf_matrix = confusion_matrix(y_train, predictions)\n",
        "print(classification_report(y_train,predictions))"
      ],
      "execution_count": null,
      "outputs": [
        {
          "output_type": "stream",
          "text": [
            "              precision    recall  f1-score   support\n",
            "\n",
            "           1       0.93      0.93      0.93        58\n",
            "           2       0.96      0.96      0.96        55\n",
            "           3       0.96      0.96      0.96        55\n",
            "\n",
            "    accuracy                           0.95       168\n",
            "   macro avg       0.95      0.95      0.95       168\n",
            "weighted avg       0.95      0.95      0.95       168\n",
            "\n"
          ],
          "name": "stdout"
        }
      ]
    },
    {
      "cell_type": "code",
      "metadata": {
        "id": "aj4wDnYR-avB"
      },
      "source": [
        "def plot_confusion_matrix(cm, classes,\n",
        "                          normalize=False,\n",
        "                          title='Confusion matrix Skenario 1',\n",
        "                          cmap=plt.cm.Blues):\n",
        "    \"\"\"\n",
        "    This function prints and plots the confusion matrix.\n",
        "    Normalization can be applied by setting `normalize=True`.\n",
        "    \"\"\"\n",
        "    if normalize:\n",
        "        cm = cm.astype('float') / cm.sum(axis=1)[:, np.newaxis]\n",
        "        print(\"Normalized confusion matrix\")\n",
        "    else:\n",
        "        print('Confusion matrix, without normalization')\n",
        "\n",
        "    print(cm)\n",
        "\n",
        "    plt.imshow(cm, interpolation='nearest', cmap=cmap)\n",
        "    plt.title(title)\n",
        "    plt.colorbar()\n",
        "    tick_marks = np.arange(len(classes))\n",
        "    plt.xticks(tick_marks, classes, rotation=45)\n",
        "    plt.yticks(tick_marks, classes)\n",
        "\n",
        "    fmt = '.2f' if normalize else 'd'\n",
        "    thresh = cm.max() / 2.\n",
        "    for i, j in itertools.product(range(cm.shape[0]), range(cm.shape[1])):\n",
        "        plt.text(j, i, format(cm[i, j], fmt),\n",
        "                 horizontalalignment=\"center\",\n",
        "                 color=\"white\" if cm[i, j] > thresh else \"black\")\n",
        "\n",
        "    plt.tight_layout()\n",
        "    plt.ylabel('True label')\n",
        "    plt.xlabel('Predicted label')"
      ],
      "execution_count": null,
      "outputs": []
    },
    {
      "cell_type": "code",
      "metadata": {
        "id": "PEvQhElY332g",
        "outputId": "2fd66bf9-4e32-416a-a9be-7a4ef8ea2051",
        "colab": {
          "base_uri": "https://localhost:8080/",
          "height": 381
        }
      },
      "source": [
        "plt.figure()\n",
        "plot_confusion_matrix(cnf_matrix, classes=['Kama(1)', 'Rosa(2)', 'Canadian(3)'],normalize= False,  title='Confusion matrix Skenario 1-b')"
      ],
      "execution_count": null,
      "outputs": [
        {
          "output_type": "stream",
          "text": [
            "Confusion matrix, without normalization\n",
            "[[54  2  2]\n",
            " [ 2 53  0]\n",
            " [ 2  0 53]]\n"
          ],
          "name": "stdout"
        },
        {
          "output_type": "display_data",
          "data": {
            "image/png": "[encoded data removed]",
            "text/plain": [
              "<Figure size 432x288 with 2 Axes>"
            ]
          },
          "metadata": {
            "tags": [],
            "needs_background": "light"
          }
        }
      ]
    },
    {
      "cell_type": "code",
      "metadata": {
        "id": "b5HZmDOcovdL",
        "outputId": "ac2c920d-ebf2-4c69-abdb-12e0c61bf6c0",
        "colab": {
          "base_uri": "https://localhost:8080/",
          "height": 606
        }
      },
      "source": [
        "predictions= mlp.predict(X_test)\n",
        "from sklearn.metrics import classification_report,confusion_matrix\n",
        "cnf_matrix = confusion_matrix(y_test, predictions)\n",
        "print(confusion_matrix(y_test,predictions))\n",
        "print(classification_report(y_test,predictions))\n",
        "plt.figure()\n",
        "plot_confusion_matrix(cnf_matrix, classes=['Kama(1)', 'Rosa(2)', 'Canadian(3)'],normalize= False,  title='Confusion matrix Testdata Skennario1-b')"
      ],
      "execution_count": null,
      "outputs": [
        {
          "output_type": "stream",
          "text": [
            "[[12  0  0]\n",
            " [ 0 15  0]\n",
            " [ 1  0 14]]\n",
            "              precision    recall  f1-score   support\n",
            "\n",
            "           1       0.92      1.00      0.96        12\n",
            "           2       1.00      1.00      1.00        15\n",
            "           3       1.00      0.93      0.97        15\n",
            "\n",
            "    accuracy                           0.98        42\n",
            "   macro avg       0.97      0.98      0.98        42\n",
            "weighted avg       0.98      0.98      0.98        42\n",
            "\n",
            "Confusion matrix, without normalization\n",
            "[[12  0  0]\n",
            " [ 0 15  0]\n",
            " [ 1  0 14]]\n"
          ],
          "name": "stdout"
        },
        {
          "output_type": "display_data",
          "data": {
            "image/png": "[encoded data removed]",
            "text/plain": [
              "<Figure size 432x288 with 2 Axes>"
            ]
          },
          "metadata": {
            "tags": [],
            "needs_background": "light"
          }
        }
      ]
    },
    {
      "cell_type": "code",
      "metadata": {
        "id": "av_gUtI6o_62",
        "outputId": "eba1a2d0-004f-48f2-e24c-2d0981fe076a",
        "colab": {
          "base_uri": "https://localhost:8080/",
          "height": 139
        }
      },
      "source": [
        "from warnings import filterwarnings\n",
        "filterwarnings('ignore')\n",
        "\n",
        "kf = KFold(n_splits=7,shuffle=False)\n",
        "kf.split(X)\n",
        "accuracy_model = []\n",
        "for train_index, test_index in kf.split(X):\n",
        "    # Split train-test\n",
        "    X_train, X_test = X.iloc[train_index], X.iloc[test_index]\n",
        "    y_train, y_test = y[train_index], y[test_index]\n",
        "    # Train the model\n",
        "    model = mlp.fit(X_train, y_train)\n",
        "    # Append to accuracy_model the accuracy of the model\n",
        "    accuracy_model.append(accuracy_score(y_test, model.predict(X_test), normalize=True)*100)\n",
        "    print(accuracy_model)\n"
      ],
      "execution_count": null,
      "outputs": [
        {
          "output_type": "stream",
          "text": [
            "[63.33333333333333]\n",
            "[63.33333333333333, 0.0]\n",
            "[63.33333333333333, 0.0, 86.66666666666667]\n",
            "[63.33333333333333, 0.0, 86.66666666666667, 100.0]\n",
            "[63.33333333333333, 0.0, 86.66666666666667, 100.0, 100.0]\n",
            "[63.33333333333333, 0.0, 86.66666666666667, 100.0, 100.0, 93.33333333333333]\n",
            "[63.33333333333333, 0.0, 86.66666666666667, 100.0, 100.0, 93.33333333333333, 83.33333333333334]\n"
          ],
          "name": "stdout"
        }
      ]
    },
    {
      "cell_type": "code",
      "metadata": {
        "id": "RfjSvZ-ApMhP"
      },
      "source": [
        ""
      ],
      "execution_count": null,
      "outputs": []
    },
    {
      "cell_type": "code",
      "metadata": {
        "id": "JzL89GiYxf_2"
      },
      "source": [
        ""
      ],
      "execution_count": null,
      "outputs": []
    }
  ]
}